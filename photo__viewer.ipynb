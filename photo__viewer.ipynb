{
  "nbformat": 4,
  "nbformat_minor": 0,
  "metadata": {
    "colab": {
      "provenance": [],
      "authorship_tag": "ABX9TyNaYQ+9DptmNe2pKAbeFuzE",
      "include_colab_link": true
    },
    "kernelspec": {
      "name": "python3",
      "display_name": "Python 3"
    },
    "language_info": {
      "name": "python"
    }
  },
  "cells": [
    {
      "cell_type": "markdown",
      "metadata": {
        "id": "view-in-github",
        "colab_type": "text"
      },
      "source": [
        "<a href=\"https://colab.research.google.com/github/K0210/photo_viewer/blob/main/photo__viewer.ipynb\" target=\"_parent\"><img src=\"https://colab.research.google.com/assets/colab-badge.svg\" alt=\"Open In Colab\"/></a>"
      ]
    },
    {
      "cell_type": "code",
      "execution_count": null,
      "metadata": {
        "id": "q7uoihwHr4VD",
        "cellView": "form"
      },
      "outputs": [],
      "source": [
        "#@title image viewer\n",
        "import cv2\n",
        "from google.colab import files\n",
        "from google.colab.patches import cv2_imshow\n",
        "\n",
        "uploaded = files.upload()\n",
        "\n",
        "filename = list(uploaded.keys())[0]\n",
        "\n",
        "img = cv2.imread(filename,-1)\n",
        "print(img.shape)\n",
        "\n",
        "cv2_imshow(img)"
      ]
    },
    {
      "cell_type": "code",
      "source": [
        "#@title resize and grayscale\n",
        "x = 0.1 #@param {type:\"slider\", min:0, max:20, step:0.01}\n",
        "y = 0.1 #@param {type:\"slider\", min:0, max:20, step:0.01}\n",
        "img_new = cv2.resize(img,(int(img.shape[1]*x),int(img.shape[0]*y)))\n",
        "cv2_imshow(img_new)\n",
        "img2 = cv2.imread(filename,0)\n",
        "cv2_imshow(img2)"
      ],
      "metadata": {
        "id": "7qvWwx_zKG2T",
        "cellView": "form"
      },
      "execution_count": null,
      "outputs": []
    },
    {
      "cell_type": "code",
      "source": [
        "#@title saving image\n",
        "import numpy as np\n",
        "ALPHA = 255 #@param {type:\"slider\", min:0, max:255, step:1}\n",
        "alpha = np.full((img.shape[0],img.shape[1],1),ALPHA)\n",
        "newimg = np.append(img,alpha,axis=-1)\n",
        "fn = input()\n",
        "filname = fn + "_alpha.png"\n"
        "cv2.imwrite(\"Eb4nT67UcAAQN7U_alpha.png\",newimg)"
      ],
      "metadata": {
        "id": "dbwkwtVpweb3",
        "cellView": "form",
        "colab": {
          "base_uri": "https://localhost:8080/"
        },
        "outputId": "549ad821-16ba-487e-c34d-f7ae91e540d1"
      },
      "execution_count": null,
      "outputs": [
        {
          "output_type": "execute_result",
          "data": {
            "text/plain": [
              "True"
            ]
          },
          "metadata": {},
          "execution_count": 2
        }
      ]
    }
  ]
}
